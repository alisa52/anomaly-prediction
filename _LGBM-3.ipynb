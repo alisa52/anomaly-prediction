{
 "cells": [
  {
   "cell_type": "code",
   "execution_count": 1,
   "metadata": {},
   "outputs": [
    {
     "name": "stderr",
     "output_type": "stream",
     "text": [
      "/anaconda3/lib/python3.7/site-packages/lightgbm/__init__.py:46: UserWarning: Starting from version 2.2.1, the library file in distribution wheels for macOS is built by the Apple Clang (Xcode_9.4.1) compiler.\n",
      "This means that in case of installing LightGBM from PyPI via the ``pip install lightgbm`` command, you don't need to install the gcc compiler anymore.\n",
      "Instead of that, you need to install the OpenMP library, which is required for running LightGBM on the system with the Apple Clang compiler.\n",
      "You can install the OpenMP library by the following command: ``brew install libomp``.\n",
      "  \"You can install the OpenMP library by the following command: ``brew install libomp``.\", UserWarning)\n"
     ]
    }
   ],
   "source": [
    "import os\n",
    "import numpy as np\n",
    "import pandas as pd\n",
    "import itertools\n",
    "import matplotlib.pyplot as plt\n",
    "import requests\n",
    "\n",
    "\n",
    "from lightgbm import LGBMClassifier\n",
    "from sklearn.linear_model import LogisticRegression\n",
    "from sklearn.ensemble import RandomForestClassifier\n",
    "from sklearn.model_selection import cross_val_predict, cross_val_predict, train_test_split\n",
    "from sklearn.metrics import (roc_auc_score, confusion_matrix, precision_score,\n",
    "                             recall_score, roc_curve, precision_recall_curve,auc)\n",
    "from sklearn.preprocessing import StandardScaler\n",
    "from sklearn.pipeline import Pipeline\n",
    "from sklearn.metrics import fbeta_score\n",
    "import lightgbm as lgb\n",
    "\n",
    "# from utils import plot_confusion_matrix"
   ]
  },
  {
   "cell_type": "code",
   "execution_count": 35,
   "metadata": {},
   "outputs": [],
   "source": [
    "window_size = 4\n",
    "# размер окна\n",
    "window_method = 1\n",
    "# 0 - если хоть один элемент аномальный то окно аномально, 1 - если все, 2 если больше половины\n",
    "experiment_message = 'тестируем лес'\n",
    "file_delimeter = 4\n",
    "bad_vals_len=960"
   ]
  },
  {
   "cell_type": "code",
   "execution_count": 36,
   "metadata": {
    "scrolled": true
   },
   "outputs": [
    {
     "name": "stdout",
     "output_type": "stream",
     "text": [
      "['part-004.csv', 'part-007.csv', 'part-011.csv', 'part-012.csv', 'part-015.csv', 'part-018.csv', 'part-021.csv', 'part-028.csv', 'part-033.csv', 'part-036.csv', 'part-042.csv', 'part-047.csv', 'part-055.csv', 'part-059.csv', 'part-066.csv', 'part-073.csv', 'part-074.csv', 'part-078.csv', 'part-082.csv', 'part-087.csv', 'part-088.csv', 'part-091.csv', 'part-092.csv', 'part-094.csv', 'part-097.csv', 'part-101.csv', 'part-105.csv', 'part-106.csv', 'part-108.csv', 'part-114.csv', 'part-116.csv', 'part-131.csv', 'part-133.csv', 'part-136.csv', 'part-138.csv', 'part-141.csv', 'part-149.csv', 'part-150.csv', 'part-152.csv', 'part-154.csv', 'part-157.csv', 'part-163.csv', 'part-164.csv', 'part-176.csv', 'part-179.csv', 'part-181.csv', 'part-183.csv', 'part-184.csv', 'part-186.csv', 'part-199.csv']\n"
     ]
    }
   ],
   "source": [
    "r = requests.get('http://alarmerbot.ru/?key=c51ae3-7b05b8-ee307f&message='+'start')\n",
    "dir_path = '/Users/alisa95/Downloads/FEATURES-2014-2015/'\n",
    "# names_list = sorted(os.listdir(dir_path)[::4])\n",
    "names_list = ['part-004.csv', 'part-007.csv', 'part-011.csv', 'part-012.csv', 'part-015.csv', 'part-018.csv', 'part-021.csv', 'part-028.csv', 'part-033.csv', 'part-036.csv', 'part-042.csv', 'part-047.csv', 'part-055.csv', 'part-059.csv', 'part-066.csv', 'part-073.csv', 'part-074.csv', 'part-078.csv', 'part-082.csv', 'part-087.csv', 'part-088.csv', 'part-091.csv', 'part-092.csv', 'part-094.csv', 'part-097.csv', 'part-101.csv', 'part-105.csv', 'part-106.csv', 'part-108.csv', 'part-114.csv', 'part-116.csv', 'part-131.csv', 'part-133.csv', 'part-136.csv', 'part-138.csv', 'part-141.csv', 'part-149.csv', 'part-150.csv', 'part-152.csv', 'part-154.csv', 'part-157.csv', 'part-163.csv', 'part-164.csv', 'part-176.csv', 'part-179.csv', 'part-181.csv', 'part-183.csv', 'part-184.csv', 'part-186.csv', 'part-199.csv']\n",
    "print(names_list)\n",
    "sequences = pd.concat([pd.read_csv(dir_path + name, parse_dates=['timestamp'])for name in names_list], ignore_index=True)\n",
    "\n",
    "r = requests.get('http://alarmerbot.ru/?key=c51ae3-7b05b8-ee307f&message='+'read data done')"
   ]
  },
  {
   "cell_type": "code",
   "execution_count": 37,
   "metadata": {},
   "outputs": [],
   "source": [
    "# сортировка\n",
    "sequences.sort_values(['host', 'process', 'timestamp'], ascending=True, inplace=True)"
   ]
  },
  {
   "cell_type": "code",
   "execution_count": 38,
   "metadata": {},
   "outputs": [
    {
     "name": "stdout",
     "output_type": "stream",
     "text": [
      "[23, 650, 292, 132, 34, 1840, 1723, 131, 10247, 176, 6834, 451, 1256, 3234, 94, 256, 2673, 23, 4313, 493, 52, 10286, 1598, 145, 1722, 34]\n",
      "[427172, 96054, 16647, 185951, 68, 9801, 34110, 50240, 56970, 48198, 61417, 34311, 8454, 18719, 57557, 80344, 2810, 21274, 19129, 48059, 108401, 13222, 85038, 154919, 149459, 48774, 36006]\n"
     ]
    }
   ],
   "source": [
    "# на выходе маска new_mask для того что бы проставить лишних bad_vals_len тру перед тру\n",
    "\n",
    "mask = sequences['isAnomaly'].values.astype(bool)\n",
    "new_mask = sequences['isAnomaly'].values.astype(bool)\n",
    "print([len(list(group)) for key, group in itertools.groupby(new_mask) if key])\n",
    "print([len(list(group)) for key, group in itertools.groupby(~new_mask) if key])\n",
    "i=0\n",
    "for index in range(len(new_mask)-2,0 ,-1):\n",
    "    if(new_mask[index]==False and new_mask[index+1]==True and i<bad_vals_len):\n",
    "        new_mask[index]=True\n",
    "        i=i+1\n",
    "    else:\n",
    "        i=0\n",
    "\n",
    "# print([len(list(group)) for key, group in itertools.groupby(new_mask) if key])\n",
    "# print([len(list(group)) for key, group in itertools.groupby(~new_mask) if key])\n",
    "\n",
    "new_mask = new_mask ^ mask\n",
    "\n",
    "# print([len(list(group)) for key, group in itertools.groupby(new_mask) if key])\n",
    "# print([len(list(group)) for key, group in itertools.groupby(~new_mask) if key])\n",
    "\n",
    "sequences = sequences[~new_mask]\n",
    "\n",
    "len(mask)\n",
    "r = requests.get('http://alarmerbot.ru/?key=c51ae3-7b05b8-ee307f&message='+'bad_vals_droped')"
   ]
  },
  {
   "cell_type": "code",
   "execution_count": 39,
   "metadata": {},
   "outputs": [],
   "source": [
    "labels = sequences['isAnomaly']\n",
    "sequences = sequences.drop(columns=['isAnomaly', 'host', 'process', 'timestamp'])"
   ]
  },
  {
   "cell_type": "code",
   "execution_count": null,
   "metadata": {},
   "outputs": [],
   "source": [
    "window_sequences = pd.DataFrame()\n",
    "window_labels = pd.DataFrame()\n",
    "for i in range(window_size):\n",
    "    window_sequences = pd.concat([window_sequences, sequences.shift(periods=i)], axis=1)\n",
    "    window_labels[f'shifted_{i}'] = labels.shift(periods=i)\n",
    "\n",
    "sequences = window_sequences\n",
    "labels = window_labels\n",
    "\n",
    "sequences.dropna(inplace=True)\n",
    "labels.dropna(inplace=True)\n",
    "\n",
    "num_columns = labels.shape[1]\n",
    "sum_lables = labels.sum(axis=1)\n",
    "if(window_method==0):\n",
    "    for val_index in sum_lables.index:\n",
    "        if sum_lables[val_index] != 0:\n",
    "            sum_lables[val_index] = 1\n",
    "elif(window_method==1):\n",
    "    for val_index in sum_lables.index:\n",
    "        if sum_lables[val_index] == num_columns:\n",
    "            sum_lables[val_index] = 1\n",
    "        else:\n",
    "            sum_lables[val_index] = 0\n",
    "            \n",
    "labels=sum_lables\n",
    "r = requests.get('http://alarmerbot.ru/?key=c51ae3-7b05b8-ee307f&message='+'window reshape done')"
   ]
  },
  {
   "cell_type": "code",
   "execution_count": null,
   "metadata": {},
   "outputs": [],
   "source": [
    "# для окна 1 max_depth=5\n",
    "try:\n",
    "    forest = RandomForestClassifier(n_estimators=200, max_depth=4, n_jobs=-1, random_state=1488)\n",
    "#     forest = LGBMClassifier(max_depth=5, n_estimators=80, n_jobs=-1, learning_rate=0.05, random_state=1488, num_leaves=60)\n",
    "    forest_labels = cross_val_predict(forest, sequences, labels,n_jobs=-1, cv=4, method='predict_proba')[:, 1]\n",
    "    experiment_message = 'RandomForestClassifier(n_estimators=200, max_depth=None, n_jobs=-1, random_state=1488, max_leaf_nodes=5)'\n",
    "except Exception as e:\n",
    "    message='!!! EXCEPTION !!!'\n",
    "    print(str(e))\n",
    "    r = requests.get('http://alarmerbot.ru/?key=c51ae3-7b05b8-ee307f&message='+message)"
   ]
  },
  {
   "cell_type": "code",
   "execution_count": null,
   "metadata": {},
   "outputs": [],
   "source": [
    "# precision recall\n",
    "print(\"precision_score: \",precision_score(labels, forest_labels > 0.02), \"\\nrecall_score: \",recall_score(labels, forest_labels > 0.02))\n",
    "# roc_auc_score\n",
    "print(\"roc_auc_score: \",roc_auc_score(labels, forest_labels))\n",
    "# roc_curve\n",
    "fpr, tpr, _ = roc_curve(labels, forest_labels)\n",
    "plt.plot(fpr, tpr)\n",
    "plt.xlabel('FPR')\n",
    "plt.ylabel('TPR')"
   ]
  },
  {
   "cell_type": "code",
   "execution_count": null,
   "metadata": {},
   "outputs": [],
   "source": [
    "# prc_curve\n",
    "pr, rc, _ = precision_recall_curve(labels, forest_labels)\n",
    "plt.plot(rc, pr)\n",
    "plt.xlabel('rc')\n",
    "plt.ylabel('pr')\n",
    "print(\"prc_auc_score: \",auc(rc, pr))"
   ]
  },
  {
   "cell_type": "code",
   "execution_count": null,
   "metadata": {},
   "outputs": [],
   "source": [
    "f2_score = fbeta_score(labels.astype(int), forest_labels.astype(int), beta=2)"
   ]
  },
  {
   "cell_type": "code",
   "execution_count": null,
   "metadata": {},
   "outputs": [],
   "source": [
    "# RandomForest\n",
    "message='RandomForest done \\n  bad_vals_len '+ str(bad_vals_len)+'\\n  window_size '+str(window_size)+ ' \\n  window_method '+ str(window_method)+'\\n  auc_roc '+str(roc_auc_score(labels, forest_labels)) +'\\n  auc_rpc '+str(auc(rc, pr))+'\\n  f2_score '+str(f2_score)+'\\n'+experiment_message\n",
    "\n",
    "r = requests.get('http://alarmerbot.ru/?key=c51ae3-7b05b8-ee307f&message='+str(message))"
   ]
  },
  {
   "cell_type": "code",
   "execution_count": null,
   "metadata": {},
   "outputs": [],
   "source": [
    "for i in np.arange(0.00, 0.2, 0.0001):\n",
    "    print('threshold:', i)\n",
    "    x = confusion_matrix(labels, forest_labels < i).astype(float)\n",
    "    print(x)\n",
    "    x /= x.sum(axis=1)[:, None]\n",
    "    print(x)\n",
    "    print(\"pr: \",precision_score(labels, forest_labels < i).astype(float),\" ; rc: \" ,recall_score(labels, forest_labels < i).astype(float))\n",
    "    print('\\n')"
   ]
  },
  {
   "cell_type": "code",
   "execution_count": null,
   "metadata": {},
   "outputs": [],
   "source": [
    "%%time\n",
    "scaler = StandardScaler(copy=False)\n",
    "logreg = LogisticRegression(solver='lbfgs', n_jobs=1)\n",
    "logreg_pipe = Pipeline([('scaler', scaler), ('logreg', logreg)])\n",
    "logreg_labels = cross_val_predict(logreg_pipe, sequences, labels,\n",
    "                                  cv=4, method='predict_proba')[:, 1]"
   ]
  },
  {
   "cell_type": "code",
   "execution_count": null,
   "metadata": {},
   "outputs": [],
   "source": [
    "%%time\n",
    "boosting = LGBMClassifier(max_depth=7, n_estimators=80, n_jobs=-1)\n",
    "boosting_labels = cross_val_predict(boosting, sequences, labels, cv=4,\n",
    "                                    method='predict_proba')[:, 1]"
   ]
  },
  {
   "cell_type": "code",
   "execution_count": null,
   "metadata": {},
   "outputs": [],
   "source": [
    "confusion_matrix(labels, forest_labels)"
   ]
  },
  {
   "cell_type": "code",
   "execution_count": null,
   "metadata": {},
   "outputs": [],
   "source": [
    "precision_score(labels, forest_labels), recall_score(labels, forest_labels)"
   ]
  },
  {
   "cell_type": "code",
   "execution_count": null,
   "metadata": {},
   "outputs": [],
   "source": [
    "confusion_matrix(labels, boosting_labels)"
   ]
  },
  {
   "cell_type": "code",
   "execution_count": null,
   "metadata": {},
   "outputs": [],
   "source": [
    "precision_score(labels, boosting_labels), recall_score(labels, boosting_labels)"
   ]
  },
  {
   "cell_type": "code",
   "execution_count": null,
   "metadata": {},
   "outputs": [],
   "source": [
    "confusion_matrix(labels, logreg_labels)"
   ]
  },
  {
   "cell_type": "code",
   "execution_count": null,
   "metadata": {},
   "outputs": [],
   "source": [
    "precision_score(labels, logreg_labels), recall_score(labels, logreg_labels)"
   ]
  },
  {
   "cell_type": "code",
   "execution_count": null,
   "metadata": {},
   "outputs": [],
   "source": [
    "class_names = np.array([\"Healthy\", \"Anomaly\"])\n",
    "np.set_printoptions(precision=2)\n",
    "plot_confusion_matrix(labels.astype(int), forest_labels.astype(int),\n",
    "    classes=class_names, normalize=True, title=\"Forest Confusion Matrix\")\n",
    "plt.tight_layout()\n",
    "plt.savefig(\"images/forest_confusion_matrix.png\", dpi=140)"
   ]
  },
  {
   "cell_type": "code",
   "execution_count": null,
   "metadata": {},
   "outputs": [],
   "source": [
    "class_names = np.array([\"Healthy\", \"Anomaly\"])\n",
    "np.set_printoptions(precision=2)\n",
    "plot_confusion_matrix(labels.astype(int), boosting_labels.astype(int),\n",
    "    classes=class_names, normalize=True, title=\"Boosting Confusion Matrix\")\n",
    "plt.tight_layout()\n",
    "plt.savefig(\"images/boosting_confusion_matrix.png\", dpi=140)"
   ]
  },
  {
   "cell_type": "code",
   "execution_count": null,
   "metadata": {},
   "outputs": [],
   "source": [
    "class_names = np.array([\"Healthy\", \"Anomaly\"])\n",
    "np.set_printoptions(precision=2)\n",
    "plot_confusion_matrix(labels.astype(int), logreg_labels.astype(int),\n",
    "    classes=class_names, normalize=True, title=\"Logreg Confusion Matrix\")\n",
    "plt.tight_layout()\n",
    "plt.savefig(\"images/logreg_confusion_matrix.png\", dpi=140)"
   ]
  },
  {
   "cell_type": "code",
   "execution_count": null,
   "metadata": {},
   "outputs": [],
   "source": [
    "sequences = pd.DataFrame(np.array([[1, 2, 3], [4, 5, 6], [7, 8, 9],[10, 11, 12],[13, 14, 15]]),columns=['a', 'b', 'c'])\n",
    "labels = pd.Series(np.array([0,0,1,1,0]))"
   ]
  },
  {
   "cell_type": "code",
   "execution_count": null,
   "metadata": {},
   "outputs": [],
   "source": [
    "%%time\n",
    "forest = RandomForestClassifier(n_estimators=60, n_jobs=-1, random_state=1488)\n",
    "forest_labels = cross_val_predict(forest, sequences, labels, cv=4,\n",
    "                                  method='predict_proba')[:, 1]"
   ]
  }
 ],
 "metadata": {
  "kernelspec": {
   "display_name": "Python 3",
   "language": "python",
   "name": "python3"
  },
  "language_info": {
   "codemirror_mode": {
    "name": "ipython",
    "version": 3
   },
   "file_extension": ".py",
   "mimetype": "text/x-python",
   "name": "python",
   "nbconvert_exporter": "python",
   "pygments_lexer": "ipython3",
   "version": "3.7.1"
  }
 },
 "nbformat": 4,
 "nbformat_minor": 2
}
