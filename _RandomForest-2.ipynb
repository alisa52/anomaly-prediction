{
 "cells": [
  {
   "cell_type": "code",
   "execution_count": null,
   "metadata": {},
   "outputs": [],
   "source": [
    "import os\n",
    "import numpy as np\n",
    "import pandas as pd\n",
    "import itertools\n",
    "import matplotlib.pyplot as plt\n",
    "import requests\n",
    "\n",
    "\n",
    "from lightgbm import LGBMClassifier\n",
    "from sklearn.linear_model import LogisticRegression\n",
    "from sklearn.ensemble import RandomForestClassifier\n",
    "from sklearn.model_selection import cross_val_predict, cross_val_predict, train_test_split\n",
    "from sklearn.metrics import (roc_auc_score, confusion_matrix, precision_score,\n",
    "                             recall_score, roc_curve, precision_recall_curve,auc)\n",
    "from sklearn.preprocessing import StandardScaler\n",
    "from sklearn.pipeline import Pipeline\n",
    "from sklearn.metrics import fbeta_score\n",
    "\n",
    "# from utils import plot_confusion_matrix"
   ]
  },
  {
   "cell_type": "code",
   "execution_count": null,
   "metadata": {
    "scrolled": true
   },
   "outputs": [],
   "source": [
    "dir_path = '/Users/alisa95/Downloads/FEATURES-2014-2015/'\n",
    "names_list = sorted(os.listdir(dir_path)[::4])\n",
    "sequences = pd.concat([pd.read_csv(dir_path + name, parse_dates=['timestamp'])for name in names_list], ignore_index=True)\n",
    "\n",
    "window_size = 4\n",
    "# размер окна\n",
    "window_method = 1\n",
    "# 0 - если хоть один элемент аномальный то окно аномально, 1 - если все, 2 если больше половины\n",
    "experiment_message = 'тестируем лес'"
   ]
  },
  {
   "cell_type": "code",
   "execution_count": null,
   "metadata": {},
   "outputs": [],
   "source": [
    "# сортировка\n",
    "sequences.sort_values(['host', 'process', 'timestamp'], ascending=True, inplace=True)"
   ]
  },
  {
   "cell_type": "code",
   "execution_count": null,
   "metadata": {},
   "outputs": [],
   "source": [
    "labels = sequences['isAnomaly']\n",
    "sequences = sequences.drop(columns=['isAnomaly', 'host', 'process', 'timestamp'])"
   ]
  },
  {
   "cell_type": "code",
   "execution_count": null,
   "metadata": {},
   "outputs": [],
   "source": [
    "window_sequences = pd.DataFrame()\n",
    "window_labels = pd.DataFrame()\n",
    "for i in range(window_size):\n",
    "    window_sequences = pd.concat([window_sequences, sequences.shift(periods=i)], axis=1)\n",
    "    window_labels[f'shifted_{i}'] = labels.shift(periods=i)\n",
    "\n",
    "sequences = window_sequences\n",
    "labels = window_labels\n",
    "\n",
    "sequences.dropna(inplace=True)\n",
    "labels.dropna(inplace=True)\n",
    "\n",
    "num_columns = labels.shape[1]\n",
    "sum_lables = labels.sum(axis=1)\n",
    "if(window_method==0):\n",
    "    for val_index in sum_lables.index:\n",
    "        if sum_lables[val_index] != 0:\n",
    "            sum_lables[val_index] = 1\n",
    "elif(window_method==1):\n",
    "    for val_index in sum_lables.index:\n",
    "        if sum_lables[val_index] == num_columns:\n",
    "            sum_lables[val_index] = 1\n",
    "        else:\n",
    "            sum_lables[val_index] = 0\n",
    "            \n",
    "labels=sum_lables"
   ]
  },
  {
   "cell_type": "code",
   "execution_count": null,
   "metadata": {},
   "outputs": [],
   "source": [
    "%%time\n",
    "forest = RandomForestClassifier(n_estimators=60, n_jobs=-1, random_state=1488)\n",
    "forest_labels = cross_val_predict(forest, sequences, labels, cv=4,\n",
    "                                  method='predict_proba')[:, 1]"
   ]
  },
  {
   "cell_type": "code",
   "execution_count": null,
   "metadata": {},
   "outputs": [],
   "source": []
  },
  {
   "cell_type": "code",
   "execution_count": null,
   "metadata": {},
   "outputs": [],
   "source": [
    "# precision recall\n",
    "print(\"precision_score: \",precision_score(labels, forest_labels > 0.02), \"\\nrecall_score: \",recall_score(labels, forest_labels > 0.02))\n",
    "# roc_auc_score\n",
    "print(\"roc_auc_score: \",roc_auc_score(labels, forest_labels))\n",
    "# roc_curve\n",
    "fpr, tpr, _ = roc_curve(labels, forest_labels)\n",
    "plt.plot(fpr, tpr)\n",
    "plt.xlabel('FPR')\n",
    "plt.ylabel('TPR')"
   ]
  },
  {
   "cell_type": "code",
   "execution_count": null,
   "metadata": {},
   "outputs": [],
   "source": [
    "# prc_curve\n",
    "pr, rc, _ = precision_recall_curve(labels, forest_labels)\n",
    "plt.plot(rc, pr)\n",
    "plt.xlabel('rc')\n",
    "plt.ylabel('pr')\n",
    "print(\"prc_auc_score: \",auc(rc, pr))"
   ]
  },
  {
   "cell_type": "code",
   "execution_count": null,
   "metadata": {},
   "outputs": [],
   "source": [
    "f2_score = fbeta_score(labels.astype(int), forest_labels.astype(int), beta=2)"
   ]
  },
  {
   "cell_type": "code",
   "execution_count": null,
   "metadata": {},
   "outputs": [],
   "source": [
    "# RandomForestNotifyer\n",
    "message='RandomForest done \\n  window_size '+str(window_size)+ ' \\n  window_method '+ str(window_method)+'\\n  auc_roc '+str(roc_auc_score(labels, forest_labels)) +'\\n  auc_rpc '+str(auc(rc, pr))+'\\n  f2_score '+str(f2_score)+'\\n'+experiment_message\n",
    "\n",
    "r = requests.get('http://alarmerbot.ru/?key=c51ae3-7b05b8-ee307f&message='+str(message))"
   ]
  },
  {
   "cell_type": "code",
   "execution_count": null,
   "metadata": {},
   "outputs": [],
   "source": [
    "for i in np.arange(0.00, 0.2, 0.0001):\n",
    "    print('threshold:', i)\n",
    "    x = confusion_matrix(labels, forest_labels < i).astype(float)\n",
    "    print(x)\n",
    "    x /= x.sum(axis=1)[:, None]\n",
    "    print(x)\n",
    "    print(\"pr: \",precision_score(labels, forest_labels < i).astype(float),\" ; rc: \" ,recall_score(labels, forest_labels < i).astype(float))\n",
    "    print('\\n')"
   ]
  },
  {
   "cell_type": "code",
   "execution_count": null,
   "metadata": {},
   "outputs": [],
   "source": [
    "%%time\n",
    "scaler = StandardScaler(copy=False)\n",
    "logreg = LogisticRegression(solver='lbfgs', n_jobs=1)\n",
    "logreg_pipe = Pipeline([('scaler', scaler), ('logreg', logreg)])\n",
    "logreg_labels = cross_val_predict(logreg_pipe, sequences, labels,\n",
    "                                  cv=4, method='predict_proba')[:, 1]"
   ]
  },
  {
   "cell_type": "code",
   "execution_count": null,
   "metadata": {},
   "outputs": [],
   "source": [
    "%%time\n",
    "boosting = LGBMClassifier(max_depth=7, n_estimators=80, n_jobs=-1)\n",
    "boosting_labels = cross_val_predict(boosting, sequences, labels, cv=4,\n",
    "                                    method='predict_proba')[:, 1]"
   ]
  },
  {
   "cell_type": "code",
   "execution_count": null,
   "metadata": {},
   "outputs": [],
   "source": [
    "confusion_matrix(labels, forest_labels)"
   ]
  },
  {
   "cell_type": "code",
   "execution_count": null,
   "metadata": {},
   "outputs": [],
   "source": [
    "precision_score(labels, forest_labels), recall_score(labels, forest_labels)"
   ]
  },
  {
   "cell_type": "code",
   "execution_count": null,
   "metadata": {},
   "outputs": [],
   "source": [
    "confusion_matrix(labels, boosting_labels)"
   ]
  },
  {
   "cell_type": "code",
   "execution_count": null,
   "metadata": {},
   "outputs": [],
   "source": [
    "precision_score(labels, boosting_labels), recall_score(labels, boosting_labels)"
   ]
  },
  {
   "cell_type": "code",
   "execution_count": null,
   "metadata": {},
   "outputs": [],
   "source": [
    "confusion_matrix(labels, logreg_labels)"
   ]
  },
  {
   "cell_type": "code",
   "execution_count": null,
   "metadata": {},
   "outputs": [],
   "source": [
    "precision_score(labels, logreg_labels), recall_score(labels, logreg_labels)"
   ]
  },
  {
   "cell_type": "code",
   "execution_count": null,
   "metadata": {},
   "outputs": [],
   "source": [
    "class_names = np.array([\"Healthy\", \"Anomaly\"])\n",
    "np.set_printoptions(precision=2)\n",
    "plot_confusion_matrix(labels.astype(int), forest_labels.astype(int),\n",
    "    classes=class_names, normalize=True, title=\"Forest Confusion Matrix\")\n",
    "plt.tight_layout()\n",
    "plt.savefig(\"images/forest_confusion_matrix.png\", dpi=140)"
   ]
  },
  {
   "cell_type": "code",
   "execution_count": null,
   "metadata": {},
   "outputs": [],
   "source": [
    "class_names = np.array([\"Healthy\", \"Anomaly\"])\n",
    "np.set_printoptions(precision=2)\n",
    "plot_confusion_matrix(labels.astype(int), boosting_labels.astype(int),\n",
    "    classes=class_names, normalize=True, title=\"Boosting Confusion Matrix\")\n",
    "plt.tight_layout()\n",
    "plt.savefig(\"images/boosting_confusion_matrix.png\", dpi=140)"
   ]
  },
  {
   "cell_type": "code",
   "execution_count": null,
   "metadata": {},
   "outputs": [],
   "source": [
    "class_names = np.array([\"Healthy\", \"Anomaly\"])\n",
    "np.set_printoptions(precision=2)\n",
    "plot_confusion_matrix(labels.astype(int), logreg_labels.astype(int),\n",
    "    classes=class_names, normalize=True, title=\"Logreg Confusion Matrix\")\n",
    "plt.tight_layout()\n",
    "plt.savefig(\"images/logreg_confusion_matrix.png\", dpi=140)"
   ]
  },
  {
   "cell_type": "code",
   "execution_count": null,
   "metadata": {},
   "outputs": [],
   "source": [
    "sequences = pd.DataFrame(np.array([[1, 2, 3], [4, 5, 6], [7, 8, 9],[10, 11, 12],[13, 14, 15]]),columns=['a', 'b', 'c'])\n",
    "labels = pd.Series(np.array([0,0,1,1,0]))"
   ]
  }
 ],
 "metadata": {
  "kernelspec": {
   "display_name": "Python 3",
   "language": "python",
   "name": "python3"
  },
  "language_info": {
   "codemirror_mode": {
    "name": "ipython",
    "version": 3
   },
   "file_extension": ".py",
   "mimetype": "text/x-python",
   "name": "python",
   "nbconvert_exporter": "python",
   "pygments_lexer": "ipython3",
   "version": "3.7.1"
  }
 },
 "nbformat": 4,
 "nbformat_minor": 2
}
