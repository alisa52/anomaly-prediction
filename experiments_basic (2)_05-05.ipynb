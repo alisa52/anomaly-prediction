{
 "cells": [
  {
   "cell_type": "code",
   "execution_count": 1,
   "metadata": {},
   "outputs": [],
   "source": [
    "import os\n",
    "import numpy as np\n",
    "import pandas as pd\n",
    "import itertools\n",
    "import matplotlib.pyplot as plt\n",
    "\n",
    "from lightgbm import LGBMClassifier\n",
    "from sklearn.linear_model import LogisticRegression\n",
    "from sklearn.ensemble import RandomForestClassifier, IsolationForest\n",
    "from sklearn.model_selection import cross_val_predict, cross_val_predict, train_test_split\n",
    "from sklearn.metrics import (roc_auc_score, confusion_matrix, precision_score, f1_score,\n",
    "                             recall_score, roc_curve, precision_recall_curve, auc)\n",
    "from sklearn.preprocessing import StandardScaler\n",
    "from sklearn.pipeline import Pipeline\n",
    "from sklearn.svm import OneClassSVM\n",
    "from sklearn.neighbors import KernelDensity\n",
    "from sklearn.decomposition import PCA\n",
    "\n",
    "from utils import plot_confusion_matrix"
   ]
  },
  {
   "cell_type": "code",
   "execution_count": 2,
   "metadata": {
    "scrolled": true
   },
   "outputs": [],
   "source": [
    "dir_path = 'FEATURES-2014-2015/'\n",
    "names_list = os.listdir(dir_path)[::4]\n",
    "sequences = pd.concat([pd.read_csv(dir_path + name) for name in names_list])"
   ]
  },
  {
   "cell_type": "code",
   "execution_count": 3,
   "metadata": {},
   "outputs": [],
   "source": [
    "labels = sequences['isAnomaly']\n",
    "sequences = sequences.drop(columns=['isAnomaly', 'host', 'process', 'timestamp'])"
   ]
  },
  {
   "cell_type": "code",
   "execution_count": 7,
   "metadata": {},
   "outputs": [],
   "source": [
    "pca = PCA(n_components=2)\n",
    "pca_sequences = pca.fit_transform(sequences)"
   ]
  },
  {
   "cell_type": "code",
   "execution_count": 10,
   "metadata": {},
   "outputs": [
    {
     "data": {
      "text/plain": [
       "array([9.99947315e-01, 5.26810771e-05])"
      ]
     },
     "execution_count": 10,
     "metadata": {},
     "output_type": "execute_result"
    }
   ],
   "source": [
    "pca.explained_variance_ratio_"
   ]
  },
  {
   "cell_type": "code",
   "execution_count": 11,
   "metadata": {},
   "outputs": [
    {
     "data": {
      "text/plain": [
       "array([0.99994732, 1.        ])"
      ]
     },
     "execution_count": 11,
     "metadata": {},
     "output_type": "execute_result"
    }
   ],
   "source": [
    "pca.explained_variance_ratio_.cumsum()"
   ]
  },
  {
   "cell_type": "code",
   "execution_count": 24,
   "metadata": {},
   "outputs": [],
   "source": [
    "rand_idxes = np.random.randint(low=0, high=len(pca_sequences), size=1000)"
   ]
  },
  {
   "cell_type": "code",
   "execution_count": 34,
   "metadata": {},
   "outputs": [
    {
     "data": {
      "text/plain": [
       "<matplotlib.collections.PathCollection at 0x7fca18b4bb70>"
      ]
     },
     "execution_count": 34,
     "metadata": {},
     "output_type": "execute_result"
    },
    {
     "data": {
      "image/png": "[encoded data removed]",
      "text/plain": [
       "<Figure size 432x288 with 1 Axes>"
      ]
     },
     "metadata": {
      "needs_background": "light"
     },
     "output_type": "display_data"
    }
   ],
   "source": [
    "plt.scatter(pca_sequences[rand_idxes, 0][labels.iloc[rand_idxes]], \n",
    "            pca_sequences[rand_idxes, 1][labels.iloc[rand_idxes]], c='r')\n",
    "\n",
    "plt.scatter(pca_sequences[rand_idxes, 0][~labels.iloc[rand_idxes]], \n",
    "            pca_sequences[rand_idxes, 1][~labels.iloc[rand_idxes]], c='b')"
   ]
  },
  {
   "cell_type": "code",
   "execution_count": 53,
   "metadata": {},
   "outputs": [],
   "source": [
    "pca = PCA(n_components=1)\n",
    "pca_sequences = pca.fit_transform(sequences).squeeze()"
   ]
  },
  {
   "cell_type": "code",
   "execution_count": 66,
   "metadata": {},
   "outputs": [
    {
     "data": {
      "text/plain": [
       "(46117,)"
      ]
     },
     "execution_count": 66,
     "metadata": {},
     "output_type": "execute_result"
    }
   ],
   "source": [
    "pca_sequences[labels].shape"
   ]
  },
  {
   "cell_type": "code",
   "execution_count": 63,
   "metadata": {},
   "outputs": [
    {
     "data": {
      "text/plain": [
       "6057714867324.881"
      ]
     },
     "execution_count": 63,
     "metadata": {},
     "output_type": "execute_result"
    }
   ],
   "source": [
    "np.median(pca_sequences[labels])"
   ]
  },
  {
   "cell_type": "code",
   "execution_count": 67,
   "metadata": {},
   "outputs": [
    {
     "data": {
      "text/plain": [
       "(1869496,)"
      ]
     },
     "execution_count": 67,
     "metadata": {},
     "output_type": "execute_result"
    }
   ],
   "source": [
    "pca_sequences[~labels].shape"
   ]
  },
  {
   "cell_type": "code",
   "execution_count": 64,
   "metadata": {},
   "outputs": [
    {
     "data": {
      "text/plain": [
       "-3217056746517.788"
      ]
     },
     "execution_count": 64,
     "metadata": {},
     "output_type": "execute_result"
    }
   ],
   "source": [
    "np.median(pca_sequences[~labels])"
   ]
  },
  {
   "cell_type": "code",
   "execution_count": 49,
   "metadata": {},
   "outputs": [
    {
     "data": {
      "image/png": "[encoded data removed]",
      "text/plain": [
       "<Figure size 432x288 with 1 Axes>"
      ]
     },
     "metadata": {
      "needs_background": "light"
     },
     "output_type": "display_data"
    }
   ],
   "source": [
    "plt.hist(pca_sequences, bins=40, density=True);"
   ]
  },
  {
   "cell_type": "code",
   "execution_count": 7,
   "metadata": {},
   "outputs": [
    {
     "name": "stderr",
     "output_type": "stream",
     "text": [
      "/home/eugene/anaconda3/lib/python3.6/site-packages/sklearn/ensemble/iforest.py:213: FutureWarning: default contamination parameter 0.1 will change in version 0.22 to \"auto\". This will change the predict method behavior.\n",
      "  FutureWarning)\n"
     ]
    }
   ],
   "source": [
    "isolation = IsolationForest(behaviour='new')\n",
    "isolation_labels = isolation.fit_predict(sequences)"
   ]
  },
  {
   "cell_type": "code",
   "execution_count": 9,
   "metadata": {},
   "outputs": [],
   "source": [
    "isolation_labels[isolation_labels == 1] = False\n",
    "isolation_labels[isolation_labels == -1] = True"
   ]
  },
  {
   "cell_type": "code",
   "execution_count": 11,
   "metadata": {},
   "outputs": [
    {
     "data": {
      "text/plain": [
       "0.33544246013061035"
      ]
     },
     "execution_count": 11,
     "metadata": {},
     "output_type": "execute_result"
    },
    {
     "data": {
      "image/png": "[encoded data removed]",
      "text/plain": [
       "<Figure size 432x288 with 1 Axes>"
      ]
     },
     "metadata": {
      "needs_background": "light"
     },
     "output_type": "display_data"
    }
   ],
   "source": [
    "pr, rc, _ = precision_recall_curve(labels, isolation_labels)\n",
    "plt.plot(rc, pr)\n",
    "auc(rc, pr)"
   ]
  },
  {
   "cell_type": "code",
   "execution_count": 13,
   "metadata": {},
   "outputs": [
    {
     "data": {
      "text/plain": [
       "0.6754441124147068"
      ]
     },
     "execution_count": 13,
     "metadata": {},
     "output_type": "execute_result"
    }
   ],
   "source": [
    "roc_auc_score(labels, isolation_labels)"
   ]
  },
  {
   "cell_type": "code",
   "execution_count": 14,
   "metadata": {},
   "outputs": [
    {
     "data": {
      "text/plain": [
       "0.28266984678968404"
      ]
     },
     "execution_count": 14,
     "metadata": {},
     "output_type": "execute_result"
    }
   ],
   "source": [
    "f1_score(labels, isolation_labels)"
   ]
  },
  {
   "cell_type": "code",
   "execution_count": null,
   "metadata": {},
   "outputs": [],
   "source": [
    "density = KernelDensity()\n",
    "density.fit(sequences)"
   ]
  },
  {
   "cell_type": "code",
   "execution_count": null,
   "metadata": {},
   "outputs": [],
   "source": []
  },
  {
   "cell_type": "code",
   "execution_count": 4,
   "metadata": {},
   "outputs": [
    {
     "name": "stdout",
     "output_type": "stream",
     "text": [
      "CPU times: user 16.3 s, sys: 10.4 s, total: 26.7 s\n",
      "Wall time: 49.7 s\n"
     ]
    }
   ],
   "source": [
    "%%time\n",
    "forest = RandomForestClassifier(n_estimators=40, n_jobs=-1)\n",
    "forest_labels = cross_val_predict(forest, sequences, labels, cv=4,\n",
    "                                  method='predict_proba')[:, 1]"
   ]
  },
  {
   "cell_type": "code",
   "execution_count": 6,
   "metadata": {},
   "outputs": [
    {
     "name": "stdout",
     "output_type": "stream",
     "text": [
      "CPU times: user 5min 30s, sys: 15.1 s, total: 5min 46s\n",
      "Wall time: 54.4 s\n"
     ]
    }
   ],
   "source": [
    "%%time\n",
    "boosting = LGBMClassifier(max_depth=7, n_estimators=80, n_jobs=-1)\n",
    "boosting_labels = cross_val_predict(boosting, sequences, labels, cv=4,\n",
    "                                    method='predict_proba')[:, 1]"
   ]
  },
  {
   "cell_type": "code",
   "execution_count": 4,
   "metadata": {},
   "outputs": [
    {
     "name": "stdout",
     "output_type": "stream",
     "text": [
      "CPU times: user 1.99 s, sys: 1.11 s, total: 3.11 s\n",
      "Wall time: 1min 19s\n"
     ]
    }
   ],
   "source": [
    "%%time\n",
    "scaler = StandardScaler(copy=False)\n",
    "logreg = LogisticRegression(solver='lbfgs', n_jobs=1)\n",
    "logreg_pipe = Pipeline([('scaler', scaler), ('logreg', logreg)])\n",
    "logreg_labels = cross_val_predict(logreg_pipe, sequences, labels,\n",
    "                                  cv=4, method='predict_proba')[:, 1]"
   ]
  },
  {
   "cell_type": "code",
   "execution_count": null,
   "metadata": {},
   "outputs": [],
   "source": [
    "%%time\n",
    "network = MLPClassifier(layers=[256], loss='log_loss', epochs=40)\n",
    "network.fit(sequences, labels)"
   ]
  },
  {
   "cell_type": "code",
   "execution_count": null,
   "metadata": {},
   "outputs": [],
   "source": [
    "%%time\n",
    "network = MLPClassifier(layers=[256], loss='log_loss', epochs=40)\n",
    "network_labels = cross_val_predict(network, sequences, labels, cv=4,\n",
    "                                    method='predict_proba')[:, 1]"
   ]
  },
  {
   "cell_type": "markdown",
   "metadata": {},
   "source": [
    "# Experiments"
   ]
  },
  {
   "cell_type": "code",
   "execution_count": 27,
   "metadata": {},
   "outputs": [
    {
     "data": {
      "text/plain": [
       "0.99968"
      ]
     },
     "execution_count": 27,
     "metadata": {},
     "output_type": "execute_result"
    }
   ],
   "source": [
    "q = 0.2 # type II errors\n",
    "n = 5 # window\n",
    "1 - q**n # Probability of anomaly detection"
   ]
  },
  {
   "cell_type": "code",
   "execution_count": 37,
   "metadata": {},
   "outputs": [
    {
     "data": {
      "image/png": "[encoded data removed]",
      "text/plain": [
       "<Figure size 504x360 with 1 Axes>"
      ]
     },
     "metadata": {
      "needs_background": "light"
     },
     "output_type": "display_data"
    }
   ],
   "source": [
    "q = np.arange(0, 1.1, 0.1)\n",
    "plt.figure(0, (7, 5))\n",
    "plt.title('Anomaly detection on a window of size five')\n",
    "plt.plot(q, 1 - q**n, lw=4, c='k')\n",
    "plt.ylabel('Probability of anomaly detection')\n",
    "plt.xlabel('Type II error')\n",
    "plt.tight_layout()"
   ]
  },
  {
   "cell_type": "code",
   "execution_count": 39,
   "metadata": {
    "scrolled": true
   },
   "outputs": [
    {
     "name": "stdout",
     "output_type": "stream",
     "text": [
      "threshold: 0.0\n",
      "[[0.69112618 0.30887382]\n",
      " [0.15742212 0.84257788]]\n",
      "threshold: 0.01\n",
      "[[0.69112618 0.30887382]\n",
      " [0.15742212 0.84257788]]\n",
      "threshold: 0.02\n",
      "[[0.69112618 0.30887382]\n",
      " [0.15742212 0.84257788]]\n",
      "threshold: 0.03\n",
      "[[0.7850179  0.2149821 ]\n",
      " [0.28983895 0.71016105]]\n",
      "threshold: 0.04\n",
      "[[0.7850179  0.2149821 ]\n",
      " [0.28983895 0.71016105]]\n",
      "threshold: 0.05\n",
      "[[0.8257931  0.1742069 ]\n",
      " [0.34146535 0.65853465]]\n",
      "threshold: 0.06\n",
      "[[0.8257931  0.1742069 ]\n",
      " [0.34146535 0.65853465]]\n",
      "threshold: 0.07\n",
      "[[0.8257931  0.1742069 ]\n",
      " [0.34146535 0.65853465]]\n",
      "threshold: 0.08\n",
      "[[0.85714877 0.14285123]\n",
      " [0.38172812 0.61827188]]\n",
      "threshold: 0.09\n",
      "[[0.85714877 0.14285123]\n",
      " [0.38172812 0.61827188]]\n",
      "threshold: 0.1\n",
      "[[0.87118492 0.12881508]\n",
      " [0.40604471 0.59395529]]\n",
      "threshold: 0.11\n",
      "[[0.87118492 0.12881508]\n",
      " [0.40604471 0.59395529]]\n",
      "threshold: 0.12\n",
      "[[0.87118492 0.12881508]\n",
      " [0.40604471 0.59395529]]\n",
      "threshold: 0.13\n",
      "[[0.87797388 0.12202612]\n",
      " [0.42003073 0.57996927]]\n",
      "threshold: 0.14\n",
      "[[0.87797388 0.12202612]\n",
      " [0.42003073 0.57996927]]\n",
      "threshold: 0.15\n",
      "[[0.88864798 0.11135202]\n",
      " [0.42583174 0.57416826]]\n",
      "threshold: 0.16\n",
      "[[0.88864798 0.11135202]\n",
      " [0.42583174 0.57416826]]\n",
      "threshold: 0.17\n",
      "[[0.88864798 0.11135202]\n",
      " [0.42583174 0.57416826]]\n",
      "threshold: 0.18\n",
      "[[0.90258475 0.09741525]\n",
      " [0.43006993 0.56993007]]\n",
      "threshold: 0.19\n",
      "[[0.90258475 0.09741525]\n",
      " [0.43006993 0.56993007]]\n"
     ]
    }
   ],
   "source": [
    "for i in np.arange(0, 0.2, 0.01):\n",
    "    print('threshold:', i)\n",
    "    x = confusion_matrix(labels, forest_labels > i).astype(float)\n",
    "    x /= x.sum(axis=1)[:, None]\n",
    "    print(x)"
   ]
  },
  {
   "cell_type": "code",
   "execution_count": 7,
   "metadata": {},
   "outputs": [
    {
     "data": {
      "text/plain": [
       "(0.1181587032140357, 0.8628946810764992)"
      ]
     },
     "execution_count": 7,
     "metadata": {},
     "output_type": "execute_result"
    }
   ],
   "source": [
    "precision_score(labels, network_labels > 0.5), recall_score(labels, network_labels > 0.5)"
   ]
  },
  {
   "cell_type": "code",
   "execution_count": 8,
   "metadata": {},
   "outputs": [
    {
     "data": {
      "text/plain": [
       "0.849866949356083"
      ]
     },
     "execution_count": 8,
     "metadata": {},
     "output_type": "execute_result"
    }
   ],
   "source": [
    "roc_auc_score(labels, network_labels)"
   ]
  },
  {
   "cell_type": "code",
   "execution_count": 9,
   "metadata": {},
   "outputs": [
    {
     "data": {
      "text/plain": [
       "Text(0, 0.5, 'TPR')"
      ]
     },
     "execution_count": 9,
     "metadata": {},
     "output_type": "execute_result"
    },
    {
     "data": {
      "image/png": "[encoded data removed]",
      "text/plain": [
       "<Figure size 432x288 with 1 Axes>"
      ]
     },
     "metadata": {
      "needs_background": "light"
     },
     "output_type": "display_data"
    }
   ],
   "source": [
    "fpr, tpr, _ = roc_curve(labels, network_labels)\n",
    "plt.plot(fpr, tpr)\n",
    "plt.xlabel('FPR')\n",
    "plt.ylabel('TPR')"
   ]
  },
  {
   "cell_type": "code",
   "execution_count": 14,
   "metadata": {},
   "outputs": [
    {
     "data": {
      "text/plain": [
       "[<matplotlib.lines.Line2D at 0x7f731950d748>]"
      ]
     },
     "execution_count": 14,
     "metadata": {},
     "output_type": "execute_result"
    },
    {
     "data": {
      "image/png": "[encoded data removed]",
      "text/plain": [
       "<Figure size 432x288 with 1 Axes>"
      ]
     },
     "metadata": {
      "needs_background": "light"
     },
     "output_type": "display_data"
    }
   ],
   "source": [
    "pr, rc, _ = precision_recall_curve(labels, network_labels)\n",
    "plt.plot(rc, pr)"
   ]
  },
  {
   "cell_type": "code",
   "execution_count": 24,
   "metadata": {},
   "outputs": [
    {
     "name": "stdout",
     "output_type": "stream",
     "text": [
      "Normalized confusion matrix\n",
      "[[0.66 0.34]\n",
      " [0.14 0.86]]\n"
     ]
    },
    {
     "data": {
      "text/plain": [
       "<matplotlib.axes._subplots.AxesSubplot at 0x7f73175d6550>"
      ]
     },
     "execution_count": 24,
     "metadata": {},
     "output_type": "execute_result"
    },
    {
     "data": {
      "image/png": "[encoded data removed]",
      "text/plain": [
       "<Figure size 432x288 with 2 Axes>"
      ]
     },
     "metadata": {
      "needs_background": "light"
     },
     "output_type": "display_data"
    }
   ],
   "source": [
    "class_names = np.array([\"Healthy\", \"Anomaly\"])\n",
    "np.set_printoptions(precision=2)\n",
    "plot_confusion_matrix(labels.astype(int), network_labels > 0.5,\n",
    "    classes=class_names, normalize=True, title=\"Forest Confusion Matrix\")"
   ]
  }
 ],
 "metadata": {
  "kernelspec": {
   "display_name": "Python 3",
   "language": "python",
   "name": "python3"
  },
  "language_info": {
   "codemirror_mode": {
    "name": "ipython",
    "version": 3
   },
   "file_extension": ".py",
   "mimetype": "text/x-python",
   "name": "python",
   "nbconvert_exporter": "python",
   "pygments_lexer": "ipython3",
   "version": "3.7.1"
  }
 },
 "nbformat": 4,
 "nbformat_minor": 2
}
